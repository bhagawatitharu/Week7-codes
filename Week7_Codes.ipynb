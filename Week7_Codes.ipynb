{
 "cells": [
  {
   "cell_type": "code",
   "execution_count": 1,
   "metadata": {},
   "outputs": [
    {
     "name": "stdout",
     "output_type": "stream",
     "text": [
      "Requirement already satisfied: nltk in c:\\users\\ripple\\appdata\\local\\programs\\python\\python311\\lib\\site-packages (3.9.1)\n",
      "Requirement already satisfied: click in c:\\users\\ripple\\appdata\\local\\programs\\python\\python311\\lib\\site-packages (from nltk) (8.1.7)\n",
      "Requirement already satisfied: joblib in c:\\users\\ripple\\appdata\\local\\programs\\python\\python311\\lib\\site-packages (from nltk) (1.3.2)\n",
      "Requirement already satisfied: regex>=2021.8.3 in c:\\users\\ripple\\appdata\\local\\programs\\python\\python311\\lib\\site-packages (from nltk) (2024.9.11)\n",
      "Requirement already satisfied: tqdm in c:\\users\\ripple\\appdata\\local\\programs\\python\\python311\\lib\\site-packages (from nltk) (4.66.5)\n",
      "Requirement already satisfied: colorama in c:\\users\\ripple\\appdata\\roaming\\python\\python311\\site-packages (from click->nltk) (0.4.6)\n",
      "Note: you may need to restart the kernel to use updated packages.\n"
     ]
    },
    {
     "name": "stderr",
     "output_type": "stream",
     "text": [
      "\n",
      "[notice] A new release of pip is available: 24.0 -> 24.2\n",
      "[notice] To update, run: python.exe -m pip install --upgrade pip\n"
     ]
    }
   ],
   "source": [
    "pip install nltk"
   ]
  },
  {
   "cell_type": "code",
   "execution_count": 2,
   "metadata": {},
   "outputs": [
    {
     "name": "stderr",
     "output_type": "stream",
     "text": [
      "[nltk_data] Downloading package stopwords to\n",
      "[nltk_data]     C:\\Users\\Ripple\\AppData\\Roaming\\nltk_data...\n",
      "[nltk_data]   Unzipping corpora\\stopwords.zip.\n"
     ]
    },
    {
     "data": {
      "text/plain": [
       "{'Lazy_John.txt': 'boy name john lazi couldn’t even chang cloth one day saw appl tree yard full fruit want eat appl lazi climb tree take fruit lay underneath tree wait fruit fall john wait starv appl never fell lazi get nowher want someth need work hard',\n",
       " 'The_Ant_ant_The_Grashopper.txt': 'ant grasshopp good friend summer ant work hard fill storag food grasshopp enjoy fine weather play day winter came ant lie cozili home surround food store summer grasshopp home hungri freez ask ant food ant gave wasn’t enough last entir winter tri ask ant latter repli “i’m sorri friend food enough famili last end winter give starv entir summer prepar winter chose play instead” winter stori repres time live food resourc scarc summer time everyth abund lot right save winter',\n",
       " 'The_Boy_Who_Cried_Wolf.txt': 'shepherd boy like play trick one day watch herd boy decid play trick cri “wolf wolf” peopl heard rush help disappoint saw wolf boy laugh next day peopl rush aid disappoint third day boy saw wolf devour one sheep cri help peopl heard thought anoth boy’ prank one came help day boy lost sheep wolf alway lie cheat peopl come time one believ anymor',\n",
       " 'The_Dog_and_the_Bone.txt': 'dog wander street night day search food one day found big juici bone immedi grab mouth took home way home cross river saw anoth dog bone mouth want bone open mouth bone bite fell river sank night went home hungri alway envi other we’ll lose alreadi like greedi dog',\n",
       " 'The_Elephant_and_the_Ants.txt': 'proud eleph constantli bulli smaller anim would go anthil near home spray water ant ant size could noth cri eleph laugh threaten ant would crush death one day ant enough decid teach eleph lesson went straight elephant’ trunk start bite eleph could howl pain realiz mistak apolog ant anim bulli humbl treat everyon kind think you’r stronger other use strength protect instead harm',\n",
       " 'The_Fox_and_the_Grapes.txt': 'hungri fox stumbl upon vineyard see round juici grape hang bunch fox drool matter high jump couldn’t reach told probabl sour left night sleep empti stomach us tend act like fox want someth think it’ hard attain make excus tell it’ probabl great instead work hard',\n",
       " 'The_Hare_and_the_Tortoise.txt': 'hare friend tortois one day challeng tortois race see slow tortois go hare thought he’d win easili took nap tortois kept go hare woke saw tortois alreadi finish line much chagrin tortois race busi sleep coupl moral lesson learn stori hare teach overconfid sometim ruin tortois teach us power persever even odd stack never give sometim life who’ fastest strongest it’ consist',\n",
       " 'The_Lion_and_the_Poor_Slave.txt': 'slave treat cruelli master one day couldn’t take anymor ran forest escap chanc upon lion couldn’t walk thorn paw although scare slave muster courag took thorn lion’ paw lion final free thorn ran forest didn’t harm slave sometim later slave caught master along anim forest master order slave thrown lion’ den slave saw lion recogn lion help forest slave abl escap den unharm freed anim good alway way return good deed kind other world kind',\n",
       " 'The_Thirsty_Crow.txt': 'fli long distanc thirsti crow wander forest search water final saw pot halffil water tri drink beak wasn’t long enough reach water insid saw pebbl ground one one put pot water rose brim crow hastili drank quench thirst there’ there’ way everi problem solut look hard don’t give',\n",
       " 'The_Ugly_Duckling.txt': 'us probabl heard stori one famou fairi tale world stori revolv around duckl moment birth alway felt differ sibl alway pick didn’t look like rest one day enough ran away pond grew wander nearbi look famili would accept month pass season chang everywher went nobodi want ugli duck one day came upon famili swan upon look realiz month spent look famili call grown beauti swan final understood never look like rest sibl wasn’t duck swan shouldn’t quick judg other base physic appear someon doesn’t fit societ definit beauti doesn’t mean they’r ugli us beauti uniqu way it’ time accept celebr individu'}"
      ]
     },
     "execution_count": 2,
     "metadata": {},
     "output_type": "execute_result"
    }
   ],
   "source": [
    "import os\n",
    "import re\n",
    "import string\n",
    "import nltk\n",
    "from sklearn.feature_extraction.text import TfidfVectorizer\n",
    "\n",
    "nltk.download('stopwords')\n",
    "from nltk.corpus import stopwords\n",
    "from nltk.stem import PorterStemmer\n",
    "\n",
    "# Load documents\n",
    "def load_documents(folder_path):\n",
    "    documents = {}\n",
    "    for filename in os.listdir(folder_path):\n",
    "        with open(os.path.join(folder_path, filename), 'r', encoding='utf-8') as file:\n",
    "            documents[filename] = file.read()\n",
    "    return documents\n",
    "\n",
    "# Preprocessing: Tokenization, stopword removal, and stemming\n",
    "def preprocess(text):\n",
    "    # Lowercase\n",
    "    text = text.lower()\n",
    "    # Remove punctuation\n",
    "    text = text.translate(str.maketrans('', '', string.punctuation))\n",
    "    # Tokenize\n",
    "    tokens = text.split()\n",
    "    # Remove stopwords\n",
    "    stop_words = set(stopwords.words('english'))\n",
    "    tokens = [word for word in tokens if word not in stop_words]\n",
    "    # Stemming\n",
    "    stemmer = PorterStemmer()\n",
    "    tokens = [stemmer.stem(word) for word in tokens]\n",
    "    return ' '.join(tokens)\n",
    "\n",
    "# Folder containing the stories\n",
    "folder_path = r\"C:\\Users\\Ripple\\Downloads\\10 documents\"\n",
    "\n",
    "# Load and preprocess documents\n",
    "documents = load_documents(folder_path)\n",
    "preprocessed_docs = {doc: preprocess(text) for doc, text in documents.items()}\n",
    "preprocessed_docs\n"
   ]
  },
  {
   "cell_type": "code",
   "execution_count": 14,
   "metadata": {},
   "outputs": [
    {
     "name": "stdout",
     "output_type": "stream",
     "text": [
      "TF-IDF Matrix Shape: (10, 340)\n"
     ]
    },
    {
     "data": {
      "text/plain": [
       "array(['abl', 'abund', 'accept', 'act', 'aid', 'along', 'alreadi',\n",
       "       'although', 'alway', 'anim', 'anoth', 'ant', 'anthil', 'anymor',\n",
       "       'apolog', 'appear', 'appl', 'around', 'ask', 'attain', 'away',\n",
       "       'base', 'beak', 'beauti', 'believ', 'big', 'birth', 'bite', 'bone',\n",
       "       'boy', 'brim', 'bulli', 'bunch', 'busi', 'call', 'came', 'caught',\n",
       "       'celebr', 'chagrin', 'challeng', 'chanc', 'chang', 'cheat',\n",
       "       'chose', 'climb', 'cloth', 'come', 'consist', 'constantli',\n",
       "       'could', 'couldn', 'coupl', 'courag', 'cozili', 'cri', 'cross',\n",
       "       'crow', 'cruelli', 'crush', 'day', 'death', 'decid', 'deed',\n",
       "       'definit', 'den', 'devour', 'didn', 'differ', 'disappoint',\n",
       "       'distanc', 'doesn', 'dog', 'don', 'drank', 'drink', 'drool',\n",
       "       'duck', 'duckl', 'easili', 'eat', 'eleph', 'elephant', 'empti',\n",
       "       'end', 'enjoy', 'enough', 'entir', 'envi', 'escap', 'even',\n",
       "       'everi', 'everyon', 'everyth', 'everywher', 'excus', 'fairi',\n",
       "       'fall', 'famili', 'famou', 'fastest', 'fell', 'felt', 'fill',\n",
       "       'final', 'fine', 'finish', 'fit', 'fli', 'food', 'forest', 'found',\n",
       "       'fox', 'free', 'freed', 'freez', 'friend', 'fruit', 'full', 'gave',\n",
       "       'get', 'give', 'go', 'good', 'grab', 'grape', 'grasshopp', 'great',\n",
       "       'greedi', 'grew', 'ground', 'grown', 'halffil', 'hang', 'hard',\n",
       "       'hare', 'harm', 'hastili', 'he', 'heard', 'help', 'herd', 'high',\n",
       "       'home', 'howl', 'humbl', 'hungri', 'immedi', 'individu', 'insid',\n",
       "       'instead', 'it', 'john', 'judg', 'juici', 'jump', 'kept', 'kind',\n",
       "       'last', 'later', 'latter', 'laugh', 'lay', 'lazi', 'learn', 'left',\n",
       "       'lesson', 'lie', 'life', 'like', 'line', 'lion', 'live', 'll',\n",
       "       'long', 'look', 'lose', 'lost', 'lot', 'make', 'master', 'matter',\n",
       "       'mean', 'mistak', 'moment', 'month', 'moral', 'mouth', 'much',\n",
       "       'muster', 'name', 'nap', 'near', 'nearbi', 'need', 'never', 'next',\n",
       "       'night', 'nobodi', 'noth', 'nowher', 'odd', 'one', 'open', 'order',\n",
       "       'other', 'overconfid', 'pain', 'pass', 'paw', 'pebbl', 'peopl',\n",
       "       'persever', 'physic', 'pick', 'play', 'pond', 'pot', 'power',\n",
       "       'prank', 'prepar', 'probabl', 'problem', 'protect', 'proud', 'put',\n",
       "       'quench', 'quick', 'race', 'ran', 'reach', 'realiz', 'recogn',\n",
       "       'repli', 'repres', 'resourc', 'rest', 'return', 'revolv', 'right',\n",
       "       'river', 'rose', 'round', 'ruin', 'rush', 'sank', 'save', 'saw',\n",
       "       'scarc', 'scare', 'search', 'season', 'see', 'sheep', 'shepherd',\n",
       "       'shouldn', 'sibl', 'size', 'slave', 'sleep', 'slow', 'smaller',\n",
       "       'societ', 'solut', 'someon', 'someth', 'sometim', 'sorri', 'sour',\n",
       "       'spent', 'spray', 'stack', 'start', 'starv', 'stomach', 'storag',\n",
       "       'store', 'stori', 'straight', 'street', 'strength', 'stronger',\n",
       "       'strongest', 'stumbl', 'summer', 'surround', 'swan', 'take',\n",
       "       'tale', 'teach', 'tell', 'tend', 'there', 'they', 'think', 'third',\n",
       "       'thirst', 'thirsti', 'thorn', 'thought', 'threaten', 'thrown',\n",
       "       'time', 'told', 'took', 'tortois', 'treat', 'tree', 'tri', 'trick',\n",
       "       'trunk', 'ugli', 'underneath', 'understood', 'unharm', 'uniqu',\n",
       "       'upon', 'us', 'use', 'vineyard', 'wait', 'walk', 'wander', 'want',\n",
       "       'wasn', 'watch', 'water', 'way', 'we', 'weather', 'went', 'who',\n",
       "       'win', 'winter', 'woke', 'wolf', 'work', 'world', 'would', 'yard',\n",
       "       'you'], dtype=object)"
      ]
     },
     "execution_count": 14,
     "metadata": {},
     "output_type": "execute_result"
    }
   ],
   "source": [
    "# Using TF-IDF Vectorizer to create the document-term matrix\n",
    "vectorizer = TfidfVectorizer()\n",
    "tfidf_matrix = vectorizer.fit_transform(preprocessed_docs.values())\n",
    "\n",
    "# Document-term matrix\n",
    "feature_names = vectorizer.get_feature_names_out()\n",
    "print(f\"TF-IDF Matrix Shape: {tfidf_matrix.shape}\")\n",
    "feature_names"
   ]
  },
  {
   "cell_type": "code",
   "execution_count": 4,
   "metadata": {},
   "outputs": [
    {
     "name": "stdout",
     "output_type": "stream",
     "text": [
      "Top Results:\n",
      "The_Thirsty_Crow.txt: 0.11295368084165004\n",
      "The_Dog_and_the_Bone.txt: 0.10189724132085222\n",
      "The_Ugly_Duckling.txt: 0.0\n",
      "The_Lion_and_the_Poor_Slave.txt: 0.0\n",
      "The_Hare_and_the_Tortoise.txt: 0.0\n"
     ]
    }
   ],
   "source": [
    "from sklearn.metrics.pairwise import cosine_similarity\n",
    "\n",
    "def process_query(query):\n",
    "    # Preprocess the query similar to the documents\n",
    "    query = preprocess(query)\n",
    "    # Transform query using the same vectorizer\n",
    "    query_vec = vectorizer.transform([query])\n",
    "    return query_vec\n",
    "\n",
    "def retrieve_documents(query, top_n=5):\n",
    "    query_vec = process_query(query)\n",
    "    # Compute cosine similarity between query and all documents\n",
    "    cosine_sim = cosine_similarity(query_vec, tfidf_matrix).flatten()\n",
    "    # Get the top N results\n",
    "    top_indices = cosine_sim.argsort()[-top_n:][::-1]\n",
    "    top_docs = [(list(preprocessed_docs.keys())[index], cosine_sim[index]) for index in top_indices]\n",
    "    return top_docs\n",
    "\n",
    "# Test the retrieval system\n",
    "query = \"example search terms\"\n",
    "top_results = retrieve_documents(query)\n",
    "\n",
    "print(\"Top Results:\")\n",
    "for doc, score in top_results:\n",
    "    print(f\"{doc}: {score}\")\n"
   ]
  },
  {
   "cell_type": "code",
   "execution_count": 5,
   "metadata": {},
   "outputs": [
    {
     "name": "stdout",
     "output_type": "stream",
     "text": [
      "Top Results:\n",
      "The_Ugly_Duckling.txt: 0.1288712355441447\n",
      "The_Hare_and_the_Tortoise.txt: 0.06973880733521144\n",
      "The_Ant_ant_The_Grashopper.txt: 0.058404671882633985\n",
      "The_Thirsty_Crow.txt: 0.0\n",
      "The_Lion_and_the_Poor_Slave.txt: 0.0\n"
     ]
    }
   ],
   "source": [
    "# Query1\n",
    "query = \"adventure story\"\n",
    "top_results = retrieve_documents(query)\n",
    "\n",
    "print(\"Top Results:\")\n",
    "for doc, score in top_results:\n",
    "    print(f\"{doc}: {score}\")"
   ]
  },
  {
   "cell_type": "code",
   "execution_count": null,
   "metadata": {},
   "outputs": [],
   "source": []
  },
  {
   "cell_type": "code",
   "execution_count": 6,
   "metadata": {},
   "outputs": [
    {
     "name": "stdout",
     "output_type": "stream",
     "text": [
      "Top Results:\n",
      "The_Fox_and_the_Grapes.txt: 0.20901447963550443\n",
      "Lazy_John.txt: 0.12288220333660704\n",
      "The_Ant_ant_The_Grashopper.txt: 0.07814991229071706\n",
      "The_Thirsty_Crow.txt: 0.05837708605274318\n",
      "The_Ugly_Duckling.txt: 0.0\n"
     ]
    }
   ],
   "source": [
    "# Query2\n",
    "query = \"hard work\"\n",
    "top_results = retrieve_documents(query)\n",
    "\n",
    "print(\"Top Results:\")\n",
    "for doc, score in top_results:\n",
    "    print(f\"{doc}: {score}\")"
   ]
  },
  {
   "cell_type": "code",
   "execution_count": 12,
   "metadata": {},
   "outputs": [
    {
     "name": "stdout",
     "output_type": "stream",
     "text": [
      "Results for Query: 'hard work'\n",
      "Precision: 0.50\n",
      "Recall: 0.50\n",
      "Accuracy: 0.33\n",
      "MAP: 0.83\n",
      "nDCG: 0.96\n",
      "\n",
      "------------------------------\n",
      "\n",
      "Results for Query: 'perseverance'\n",
      "Precision: 0.50\n",
      "Recall: 0.50\n",
      "Accuracy: 0.33\n",
      "MAP: 1.00\n",
      "nDCG: 0.96\n",
      "\n",
      "------------------------------\n",
      "\n",
      "Results for Query: 'adventure story'\n",
      "Precision: 0.50\n",
      "Recall: 0.50\n",
      "Accuracy: 0.33\n",
      "MAP: 1.00\n",
      "nDCG: 0.96\n",
      "\n",
      "------------------------------\n",
      "\n"
     ]
    }
   ],
   "source": [
    "from sklearn.metrics import precision_score, recall_score, accuracy_score, average_precision_score\n",
    "import numpy as np\n",
    "\n",
    "# Function to simulate the retrieval process for each query\n",
    "def simulate_query_retrieval(query):\n",
    "    # Dummy true labels (1 = relevant, 0 = not relevant)\n",
    "    # Replace these with actual results from your system\n",
    "    if query == \"hard work\":\n",
    "        return [1, 1, 0], [1, 0, 1]  # true_labels, predicted_labels\n",
    "    elif query == \"perseverance\":\n",
    "        return [1, 0, 1], [1, 1, 0]  # true_labels, predicted_labels\n",
    "    elif query == \"adventure story\":\n",
    "        return [1, 0, 1], [1, 1, 0]  # true_labels, predicted_labels\n",
    "\n",
    "# Function to calculate precision, recall, and accuracy\n",
    "def calculate_metrics(true_labels, predicted_labels):\n",
    "    precision = precision_score(true_labels, predicted_labels)\n",
    "    recall = recall_score(true_labels, predicted_labels)\n",
    "    accuracy = accuracy_score(true_labels, predicted_labels)\n",
    "    return precision, recall, accuracy\n",
    "\n",
    "# Function to calculate MAP and nDCG\n",
    "def calculate_map_and_ndcg(true_labels, predictions):\n",
    "    map_score = average_precision_score(true_labels, predictions)\n",
    "    \n",
    "    # Define relevance scores for nDCG calculation\n",
    "    relevances = [3, 0, 2]  # Example relevance scores for the top 3 retrieved documents\n",
    "    ndcg = ndcg_at_k(relevances, 3)\n",
    "    \n",
    "    return map_score, ndcg\n",
    "\n",
    "# nDCG helper functions\n",
    "def dcg_at_k(relevances, k):\n",
    "    relevances = np.asfarray(relevances)[:k]\n",
    "    if relevances.size:\n",
    "        return np.sum((2 ** relevances - 1) / np.log2(np.arange(2, relevances.size + 2)))\n",
    "    return 0.\n",
    "\n",
    "def ndcg_at_k(relevances, k):\n",
    "    dcg_max = dcg_at_k(sorted(relevances, reverse=True), k)\n",
    "    if not dcg_max:\n",
    "        return 0.\n",
    "    return dcg_at_k(relevances, k) / dcg_max\n",
    "\n",
    "# List of queries\n",
    "queries = [\"hard work\", \"perseverance\", \"adventure story\"]\n",
    "\n",
    "# Evaluating each query\n",
    "for query in queries:\n",
    "    true_labels, predicted_labels = simulate_query_retrieval(query)\n",
    "    precision, recall, accuracy = calculate_metrics(true_labels, predicted_labels)\n",
    "    \n",
    "    # Example predictions for MAP calculation (dummy similarity scores)\n",
    "    predictions = [0.9, 0.2, 0.8] if query == \"hard work\" else [0.7, 0.1, 0.6]\n",
    "    \n",
    "    map_score, ndcg = calculate_map_and_ndcg(true_labels, predictions)\n",
    "    \n",
    "    # Output results\n",
    "    print(f\"Results for Query: '{query}'\")\n",
    "    print(f\"Precision: {precision:.2f}\")\n",
    "    print(f\"Recall: {recall:.2f}\")\n",
    "    print(f\"Accuracy: {accuracy:.2f}\")\n",
    "    print(f\"MAP: {map_score:.2f}\")\n",
    "    print(f\"nDCG: {ndcg:.2f}\")\n",
    "    print(\"\\n\" + \"-\"*30 + \"\\n\")\n"
   ]
  },
  {
   "cell_type": "code",
   "execution_count": 25,
   "metadata": {},
   "outputs": [
    {
     "name": "stdout",
     "output_type": "stream",
     "text": [
      "Document 6: Score = 0.1914 - hungri fox stumbl upon vineyard see round juici grape hang bunch fox drool matter high jump couldn’t reach told probabl sour left night sleep empti stomach us tend act like fox want someth think it’ hard attain make excus tell it’ probabl great instead work hard\n",
      "Document 1: Score = 0.1117 - boy name john lazi couldn’t even chang cloth one day saw appl tree yard full fruit want eat appl lazi climb tree take fruit lay underneath tree wait fruit fall john wait starv appl never fell lazi get nowher want someth need work hard\n",
      "Document 2: Score = 0.0709 - ant grasshopp good friend summer ant work hard fill storag food grasshopp enjoy fine weather play day winter came ant lie cozili home surround food store summer grasshopp home hungri freez ask ant food ant gave wasn’t enough last entir winter tri ask ant latter repli “i’m sorri friend food enough famili last end winter give starv entir summer prepar winter chose play instead” winter stori repres time live food resourc scarc summer time everyth abund lot right save winter\n",
      "Document 9: Score = 0.0539 - fli long distanc thirsti crow wander forest search water final saw pot halffil water tri drink beak wasn’t long enough reach water insid saw pebbl ground one one put pot water rose brim crow hastili drank quench thirst there’ there’ way everi problem solut look hard don’t give\n",
      "Document 3: Score = 0.0000 - shepherd boy like play trick one day watch herd boy decid play trick cri “wolf wolf” peopl heard rush help disappoint saw wolf boy laugh next day peopl rush aid disappoint third day boy saw wolf devour one sheep cri help peopl heard thought anoth boy’ prank one came help day boy lost sheep wolf alway lie cheat peopl come time one believ anymor\n",
      "Document 4: Score = 0.0000 - dog wander street night day search food one day found big juici bone immedi grab mouth took home way home cross river saw anoth dog bone mouth want bone open mouth bone bite fell river sank night went home hungri alway envi other we’ll lose alreadi like greedi dog\n",
      "Document 5: Score = 0.0000 - proud eleph constantli bulli smaller anim would go anthil near home spray water ant ant size could noth cri eleph laugh threaten ant would crush death one day ant enough decid teach eleph lesson went straight elephant’ trunk start bite eleph could howl pain realiz mistak apolog ant anim bulli humbl treat everyon kind think you’r stronger other use strength protect instead harm\n",
      "Document 7: Score = 0.0000 - hare friend tortois one day challeng tortois race see slow tortois go hare thought he’d win easili took nap tortois kept go hare woke saw tortois alreadi finish line much chagrin tortois race busi sleep coupl moral lesson learn stori hare teach overconfid sometim ruin tortois teach us power persever even odd stack never give sometim life who’ fastest strongest it’ consist\n",
      "Document 8: Score = 0.0000 - slave treat cruelli master one day couldn’t take anymor ran forest escap chanc upon lion couldn’t walk thorn paw although scare slave muster courag took thorn lion’ paw lion final free thorn ran forest didn’t harm slave sometim later slave caught master along anim forest master order slave thrown lion’ den slave saw lion recogn lion help forest slave abl escap den unharm freed anim good alway way return good deed kind other world kind\n",
      "Document 10: Score = 0.0000 - us probabl heard stori one famou fairi tale world stori revolv around duckl moment birth alway felt differ sibl alway pick didn’t look like rest one day enough ran away pond grew wander nearbi look famili would accept month pass season chang everywher went nobodi want ugli duck one day came upon famili swan upon look realiz month spent look famili call grown beauti swan final understood never look like rest sibl wasn’t duck swan shouldn’t quick judg other base physic appear someon doesn’t fit societ definit beauti doesn’t mean they’r ugli us beauti uniqu way it’ time accept celebr individu\n"
     ]
    }
   ],
   "source": [
    "from sklearn.feature_extraction.text import TfidfVectorizer\n",
    "from sklearn.metrics.pairwise import cosine_similarity\n",
    "\n",
    "# Load your documents (assumed to be preprocessed and stored)\n",
    "documents = [\n",
    "    'boy name john lazi couldn’t even chang cloth one day saw appl tree yard full fruit want eat appl lazi climb tree take fruit lay underneath tree wait fruit fall john wait starv appl never fell lazi get nowher want someth need work hard',\n",
    "    'ant grasshopp good friend summer ant work hard fill storag food grasshopp enjoy fine weather play day winter came ant lie cozili home surround food store summer grasshopp home hungri freez ask ant food ant gave wasn’t enough last entir winter tri ask ant latter repli “i’m sorri friend food enough famili last end winter give starv entir summer prepar winter chose play instead” winter stori repres time live food resourc scarc summer time everyth abund lot right save winter',\n",
    "    'shepherd boy like play trick one day watch herd boy decid play trick cri “wolf wolf” peopl heard rush help disappoint saw wolf boy laugh next day peopl rush aid disappoint third day boy saw wolf devour one sheep cri help peopl heard thought anoth boy’ prank one came help day boy lost sheep wolf alway lie cheat peopl come time one believ anymor',\n",
    "    'dog wander street night day search food one day found big juici bone immedi grab mouth took home way home cross river saw anoth dog bone mouth want bone open mouth bone bite fell river sank night went home hungri alway envi other we’ll lose alreadi like greedi dog',\n",
    "    'proud eleph constantli bulli smaller anim would go anthil near home spray water ant ant size could noth cri eleph laugh threaten ant would crush death one day ant enough decid teach eleph lesson went straight elephant’ trunk start bite eleph could howl pain realiz mistak apolog ant anim bulli humbl treat everyon kind think you’r stronger other use strength protect instead harm',\n",
    "    'hungri fox stumbl upon vineyard see round juici grape hang bunch fox drool matter high jump couldn’t reach told probabl sour left night sleep empti stomach us tend act like fox want someth think it’ hard attain make excus tell it’ probabl great instead work hard',\n",
    "    'hare friend tortois one day challeng tortois race see slow tortois go hare thought he’d win easili took nap tortois kept go hare woke saw tortois alreadi finish line much chagrin tortois race busi sleep coupl moral lesson learn stori hare teach overconfid sometim ruin tortois teach us power persever even odd stack never give sometim life who’ fastest strongest it’ consist',\n",
    "    'slave treat cruelli master one day couldn’t take anymor ran forest escap chanc upon lion couldn’t walk thorn paw although scare slave muster courag took thorn lion’ paw lion final free thorn ran forest didn’t harm slave sometim later slave caught master along anim forest master order slave thrown lion’ den slave saw lion recogn lion help forest slave abl escap den unharm freed anim good alway way return good deed kind other world kind',\n",
    "    'fli long distanc thirsti crow wander forest search water final saw pot halffil water tri drink beak wasn’t long enough reach water insid saw pebbl ground one one put pot water rose brim crow hastili drank quench thirst there’ there’ way everi problem solut look hard don’t give',\n",
    "    'us probabl heard stori one famou fairi tale world stori revolv around duckl moment birth alway felt differ sibl alway pick didn’t look like rest one day enough ran away pond grew wander nearbi look famili would accept month pass season chang everywher went nobodi want ugli duck one day came upon famili swan upon look realiz month spent look famili call grown beauti swan final understood never look like rest sibl wasn’t duck swan shouldn’t quick judg other base physic appear someon doesn’t fit societ definit beauti doesn’t mean they’r ugli us beauti uniqu way it’ time accept celebr individu'\n",
    "    # Add the other short stories here...\n",
    "]\n",
    "\n",
    "# Function to retrieve documents based on a query\n",
    "def retrieve_documents(query, documents):\n",
    "    vectorizer = TfidfVectorizer()\n",
    "    # Combine the query and documents for TF-IDF vectorization\n",
    "    tfidf_matrix = vectorizer.fit_transform([query] + documents)\n",
    "    cosine_similarities = cosine_similarity(tfidf_matrix[0:1], tfidf_matrix[1:]).flatten()\n",
    "    \n",
    "    # Create a list of tuples with document index and similarity score\n",
    "    ranked_documents = list(enumerate(cosine_similarities))\n",
    "    \n",
    "    # Sort documents based on similarity scores in descending order\n",
    "    ranked_documents.sort(key=lambda x: x[1], reverse=True)\n",
    "    \n",
    "    return ranked_documents\n",
    "\n",
    "# Example query\n",
    "query = \"hard work\"\n",
    "ranked_docs = retrieve_documents(query, documents)\n",
    "\n",
    "# Output the ranked documents and their similarity scores\n",
    "for index, score in ranked_docs:\n",
    "    print(f\"Document {index + 1}: Score = {score:.4f} - {documents[index]}\")\n"
   ]
  },
  {
   "cell_type": "code",
   "execution_count": null,
   "metadata": {},
   "outputs": [],
   "source": []
  }
 ],
 "metadata": {
  "kernelspec": {
   "display_name": "Python 3",
   "language": "python",
   "name": "python3"
  },
  "language_info": {
   "codemirror_mode": {
    "name": "ipython",
    "version": 3
   },
   "file_extension": ".py",
   "mimetype": "text/x-python",
   "name": "python",
   "nbconvert_exporter": "python",
   "pygments_lexer": "ipython3",
   "version": "3.11.8"
  }
 },
 "nbformat": 4,
 "nbformat_minor": 2
}
